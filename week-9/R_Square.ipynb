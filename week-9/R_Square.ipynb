{
 "cells": [
  {
   "cell_type": "code",
   "execution_count": 28,
   "id": "28ea1c80",
   "metadata": {},
   "outputs": [
    {
     "name": "stdout",
     "output_type": "stream",
     "text": [
      "Mean of x: 3.0\n",
      "Mean of y: 3.6\n"
     ]
    },
    {
     "data": {
      "text/html": [
       "<div>\n",
       "<style scoped>\n",
       "    .dataframe tbody tr th:only-of-type {\n",
       "        vertical-align: middle;\n",
       "    }\n",
       "\n",
       "    .dataframe tbody tr th {\n",
       "        vertical-align: top;\n",
       "    }\n",
       "\n",
       "    .dataframe thead th {\n",
       "        text-align: right;\n",
       "    }\n",
       "</style>\n",
       "<table border=\"1\" class=\"dataframe\">\n",
       "  <thead>\n",
       "    <tr style=\"text-align: right;\">\n",
       "      <th></th>\n",
       "      <th>x</th>\n",
       "      <th>y</th>\n",
       "      <th>y-ybar</th>\n",
       "      <th>(y-ybar)squr</th>\n",
       "    </tr>\n",
       "  </thead>\n",
       "  <tbody>\n",
       "    <tr>\n",
       "      <th>0</th>\n",
       "      <td>1</td>\n",
       "      <td>3</td>\n",
       "      <td>-0.6</td>\n",
       "      <td>0.36</td>\n",
       "    </tr>\n",
       "    <tr>\n",
       "      <th>1</th>\n",
       "      <td>2</td>\n",
       "      <td>4</td>\n",
       "      <td>0.4</td>\n",
       "      <td>0.16</td>\n",
       "    </tr>\n",
       "    <tr>\n",
       "      <th>2</th>\n",
       "      <td>3</td>\n",
       "      <td>2</td>\n",
       "      <td>-1.6</td>\n",
       "      <td>2.56</td>\n",
       "    </tr>\n",
       "    <tr>\n",
       "      <th>3</th>\n",
       "      <td>4</td>\n",
       "      <td>4</td>\n",
       "      <td>0.4</td>\n",
       "      <td>0.16</td>\n",
       "    </tr>\n",
       "    <tr>\n",
       "      <th>4</th>\n",
       "      <td>5</td>\n",
       "      <td>5</td>\n",
       "      <td>1.4</td>\n",
       "      <td>1.96</td>\n",
       "    </tr>\n",
       "  </tbody>\n",
       "</table>\n",
       "</div>"
      ],
      "text/plain": [
       "   x  y  y-ybar  (y-ybar)squr\n",
       "0  1  3    -0.6          0.36\n",
       "1  2  4     0.4          0.16\n",
       "2  3  2    -1.6          2.56\n",
       "3  4  4     0.4          0.16\n",
       "4  5  5     1.4          1.96"
      ]
     },
     "execution_count": 28,
     "metadata": {},
     "output_type": "execute_result"
    }
   ],
   "source": [
    "import numpy as np\n",
    "import pandas as pd\n",
    "\n",
    "df=pd.DataFrame({\n",
    "    \"x\":[1,2,3,4,5],\n",
    "    \"y\":[3,4,2,4,5]\n",
    "})\n",
    "mean_x = sum(x) / len(x)\n",
    "mean_y = sum(y) / len(y)\n",
    "\n",
    "print(\"Mean of x:\", mean_x)\n",
    "print(\"Mean of y:\", mean_y)\n",
    "\n",
    "df['y-ybar'] = df['y'] - mean_y\n",
    "df['(y-ybar)squr'] = df['y-ybar'] ** 2\n",
    "\n",
    "df"
   ]
  },
  {
   "cell_type": "code",
   "execution_count": 26,
   "id": "824babe9",
   "metadata": {},
   "outputs": [
    {
     "name": "stdout",
     "output_type": "stream",
     "text": [
      "Slope (m): 0.4\n",
      "Intercept (c): 2.4\n"
     ]
    }
   ],
   "source": [
    "def LinearRegression(X,y,x_m,y_m):\n",
    "    num=0\n",
    "    den=0\n",
    "    n=len(X)\n",
    "    for i in range(n):\n",
    "        num=num+(X[i]-x_m)*(y[i]-y_m)\n",
    "        den=den+(X[i]-x_m)**2\n",
    "    m=num/den\n",
    "    c=y_m-m*x_m\n",
    "    return m,c\n",
    "m, c = LinearRegression(df['x'], df['y'], mean_x, mean_y)\n",
    "\n",
    "print(f\"Slope (m): {m}\")\n",
    "print(f\"Intercept (c): {c}\")"
   ]
  },
  {
   "cell_type": "code",
   "execution_count": 18,
   "id": "c8ac8859",
   "metadata": {},
   "outputs": [
    {
     "name": "stdout",
     "output_type": "stream",
     "text": [
      "y=0.4x+2.4\n"
     ]
    }
   ],
   "source": [
    "print(f\"y={m}x+{c}\")"
   ]
  },
  {
   "cell_type": "code",
   "execution_count": 29,
   "id": "c13cf1a3",
   "metadata": {},
   "outputs": [
    {
     "data": {
      "text/plain": [
       "[2.8, 3.2, 3.6, 4.0, 4.4]"
      ]
     },
     "execution_count": 29,
     "metadata": {},
     "output_type": "execute_result"
    }
   ],
   "source": [
    "def Predict(X):\n",
    "    y_p=[]\n",
    "    for i in range(len(X)):\n",
    "        y_p.append(m*X[i]+c)\n",
    "    return y_p\n",
    "y_p=Predict(df['x'])\n",
    "y_p\n",
    "    "
   ]
  },
  {
   "cell_type": "code",
   "execution_count": null,
   "id": "15ca168b",
   "metadata": {},
   "outputs": [],
   "source": []
  },
  {
   "cell_type": "code",
   "execution_count": 31,
   "id": "c9a8b221",
   "metadata": {},
   "outputs": [
    {
     "data": {
      "text/plain": [
       "0.6923076923076922"
      ]
     },
     "execution_count": 31,
     "metadata": {},
     "output_type": "execute_result"
    }
   ],
   "source": [
    "\n",
    "def R_Square(y_p,y_sq,mean_y,y):\n",
    "    num=0\n",
    "    den=0\n",
    "    for i in range(len(y_p)):\n",
    "        num=num+(y_p[i]-mean_y)**2\n",
    "        den=den+y_sq[i]\n",
    "    return 1-num/den\n",
    "r2=R_Square(y_p,df['(y-ybar)squr'],mean_y,df['y'])\n",
    "r2"
   ]
  },
  {
   "cell_type": "code",
   "execution_count": 34,
   "id": "4ac26fcc",
   "metadata": {},
   "outputs": [
    {
     "name": "stdout",
     "output_type": "stream",
     "text": [
      "R_Square_Score:0.69\n"
     ]
    }
   ],
   "source": [
    "print(f\"R_Square_Score:{r2:.2f}\")"
   ]
  },
  {
   "cell_type": "code",
   "execution_count": null,
   "id": "10e828d2",
   "metadata": {},
   "outputs": [],
   "source": []
  }
 ],
 "metadata": {
  "kernelspec": {
   "display_name": "Python 3 (ipykernel)",
   "language": "python",
   "name": "python3"
  },
  "language_info": {
   "codemirror_mode": {
    "name": "ipython",
    "version": 3
   },
   "file_extension": ".py",
   "mimetype": "text/x-python",
   "name": "python",
   "nbconvert_exporter": "python",
   "pygments_lexer": "ipython3",
   "version": "3.11.5"
  }
 },
 "nbformat": 4,
 "nbformat_minor": 5
}
