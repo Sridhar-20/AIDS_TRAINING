{
 "cells": [
  {
   "cell_type": "markdown",
   "id": "9c754b8e",
   "metadata": {},
   "source": [
    "# Standardization vs Normalization"
   ]
  },
  {
   "cell_type": "markdown",
   "id": "49a5b8f1",
   "metadata": {},
   "source": [
    "## 1. Standardization :\n",
    "\n",
    "**standardisation transforms the data to have a mean(μ) of 0 and a standard deviation(σ) of 1.**\n",
    "\n",
    "   ## x_standardized=(X-μ)/σ"
   ]
  },
  {
   "cell_type": "markdown",
   "id": "22749f5d",
   "metadata": {},
   "source": [
    "# 2. Normalization (Min-Max Scaling)\n",
    "**Definition:**\n",
    "Normalization transforms data into a fixed range, typically [O,1] or [-1,1].\n",
    "\n",
    "Formula (Min-Max Scaling):"
   ]
  },
  {
   "cell_type": "markdown",
   "id": "b4c6e635",
   "metadata": {},
   "source": [
    "$$\n",
    "X' = \\frac{X - X_{\\min}}{X_{\\max} - X_{\\min}}\n",
    "$$\n",
    "\n",
    "Where:\n",
    "\n",
    "- \\( X \\) is the original value,  \n",
    "- \\( X_{\\min} \\) is the minimum value in the dataset,  \n",
    "- \\( X_{\\max} \\) is the maximum value in the dataset,  \n",
    "- \\( X' \\) is the normalized value in the range \\([0,1]\\).  \n",
    "\n",
    "For a custom range \\([a, b]\\):\n",
    "\n",
    "$$\n",
    "X' = a + \\frac{(X - X_{\\min}) (b - a)}{X_{\\max} - X_{\\min}}\n",
    "$$"
   ]
  },
  {
   "cell_type": "markdown",
   "id": "490a970f",
   "metadata": {},
   "source": [
    "## 3. Key Differences\n",
    "\n",
    "| Feature                     | Standardization (Z-score)       | Normalization (Min-Max)      |\n",
    "|-----------------------------|--------------------------------|-----------------------------|\n",
    "| **Formula**                 | X-μ/σ | $$\n",
    "X' = \\frac{X - X_{\\min}}{X_{\\max} - X_{\\min}}\n",
    "$$ |\n",
    "| **Range**                   | No fixed range                | \\([0,1]\\) or \\([-1,1]\\)    |\n",
    "| **Effect on Data**          | Centered at 0, with unit variance | Rescales data within a fixed range |\n",
    "| **Best Used When**          | Data is normally distributed  | Data has different scales or outliers |\n",
    "| **Examples of Use Cases**   | SVM, PCA, Linear Regression, K-Means | Neural Networks, KNN, Image Processing |\n",
    "| **Sensitive to Outliers?**  | No                             | Yes                         |\n",
    "\n"
   ]
  },
  {
   "cell_type": "markdown",
   "id": "2cd7fc85",
   "metadata": {},
   "source": [
    "# Cross Validation: A technique to improve model performance"
   ]
  },
  {
   "cell_type": "markdown",
   "id": "0f15bcab",
   "metadata": {},
   "source": [
    "## Why Use Cross-Validation?\n",
    "\n",
    "- **Prevents Overfitting** – Ensures the model generalizes well to new data instead of just memorizing the training set.  \n",
    "- **Improves Model Evaluation** – Tests the model on different subsets of data, providing a more comprehensive assessment.  \n",
    "- **Provides Reliable Performance Estimates** – Reduces variability compared to a single train-test split, leading to more consistent results.  \n"
   ]
  },
  {
   "cell_type": "markdown",
   "id": "a062f8ff",
   "metadata": {},
   "source": [
    "## 1. K-Fold Cross-Validation (Most Common)\n",
    "\n",
    "### How It Works?\n",
    "\n",
    "1. Split the dataset into **K** equal-sized folds.  \n",
    "2. Train the model on **K-1** folds and test on the remaining fold.  \n",
    "3. Repeat the process **K** times, each time using a different fold as the test set.  \n",
    "4. Compute the **average performance** across all **K** iterations.  \n"
   ]
  },
  {
   "cell_type": "markdown",
   "id": "2bc62e0c",
   "metadata": {},
   "source": [
    "### Example (K = 5)\n",
    "\n",
    "| Iteration | Training Folds      | Testing Fold |\n",
    "|-----------|---------------------|--------------|\n",
    "| 1         | 2, 3, 4, 5          | 1            |\n",
    "| 2         | 1, 3, 4, 5          | 2            |\n",
    "| 3         | 1, 2, 4, 5          | 3            |\n",
    "| 4         | 1, 2, 3, 5          | 4            |\n",
    "| 5         | 1, 2, 3, 4          | 5            |\n"
   ]
  },
  {
   "cell_type": "code",
   "execution_count": 22,
   "id": "941801c7",
   "metadata": {},
   "outputs": [
    {
     "name": "stdout",
     "output_type": "stream",
     "text": [
      "Cross-validation scores: [0.69962644 0.82409124 0.84723274 0.64938906 0.78943604]\n",
      "Average score:, 0.76\n"
     ]
    }
   ],
   "source": [
    "from sklearn.model_selection import KFold, cross_val_score\n",
    "from sklearn.linear_model import LinearRegression\n",
    "from sklearn.datasets import make_regression\n",
    "import numpy as np\n",
    "\n",
    "# Generate synthetic data\n",
    "X, y = make_regression(n_samples=100,n_features=2, noise=50,random_state=42)\n",
    "# K-Fold Cross-Validation\n",
    "kf = KFold(n_splits=5, shuffle=True, random_state=42)\n",
    "# Create the Linear Regression model\n",
    "model = LinearRegression()    \n",
    "# Perform cross-validation\n",
    "scores = cross_val_score(model, X, y, cv=kf, scoring='r2')\n",
    "print(\"Cross-validation scores:\", scores)\n",
    "print(f\"Average score:, {np.mean(scores):.2f}\")\n"
   ]
  },
  {
   "cell_type": "code",
   "execution_count": 29,
   "id": "66a93baa",
   "metadata": {},
   "outputs": [],
   "source": [
    "#For California Dataset\n",
    "import pandas as pd\n",
    "from sklearn.datasets import fetch_california_housing\n",
    "california=fetch_california_housing()\n",
    "df=pd.DataFrame(california.data,columns=california.feature_names)\n",
    "\n",
    "kf = KFold(n_splits=5, shuffle=True, random_state=42)"
   ]
  },
  {
   "cell_type": "code",
   "execution_count": 33,
   "id": "a08d0c8b",
   "metadata": {},
   "outputs": [
    {
     "name": "stdout",
     "output_type": "stream",
     "text": [
      "Cross-validation scores: [0.57578771 0.61374822 0.60856043 0.62126494 0.5875292 ]\n",
      "Average score:, 0.60\n"
     ]
    }
   ],
   "source": [
    "model = LinearRegression()\n",
    "\n",
    "# Perform cross-validation\n",
    "scores = cross_val_score(model, X, y, cv=kf, scoring='r2')\n",
    "\n",
    "# Print results\n",
    "print(\"Cross-validation scores:\", scores)\n",
    "print(f\"Average score:, {np.mean(scores):.2f}\")"
   ]
  },
  {
   "cell_type": "code",
   "execution_count": null,
   "id": "1e025d1c",
   "metadata": {},
   "outputs": [],
   "source": []
  },
  {
   "cell_type": "code",
   "execution_count": null,
   "id": "b2210ed0",
   "metadata": {},
   "outputs": [],
   "source": []
  }
 ],
 "metadata": {
  "kernelspec": {
   "display_name": "Python 3 (ipykernel)",
   "language": "python",
   "name": "python3"
  },
  "language_info": {
   "codemirror_mode": {
    "name": "ipython",
    "version": 3
   },
   "file_extension": ".py",
   "mimetype": "text/x-python",
   "name": "python",
   "nbconvert_exporter": "python",
   "pygments_lexer": "ipython3",
   "version": "3.11.5"
  }
 },
 "nbformat": 4,
 "nbformat_minor": 5
}
