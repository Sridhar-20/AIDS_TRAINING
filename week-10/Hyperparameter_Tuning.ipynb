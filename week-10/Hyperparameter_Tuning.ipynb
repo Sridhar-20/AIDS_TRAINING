{
 "cells": [
  {
   "cell_type": "code",
   "execution_count": 20,
   "id": "481a3a20",
   "metadata": {},
   "outputs": [],
   "source": [
    "import numpy as np\n",
    "import pandas as pd\n",
    "import matplotlib.pyplot as plt\n",
    "import seaborn as sns\n",
    "from sklearn.model_selection import train_test_split, GridSearchCV, RandomizedSearchCV\n",
    "from sklearn.ensemble import RandomForestClassifier\n",
    "from sklearn.metrics import accuracy_score, classification_report, confusion_matrix\n",
    "from sklearn.datasets import load_iris\n"
   ]
  },
  {
   "cell_type": "code",
   "execution_count": 27,
   "id": "e32134a4",
   "metadata": {},
   "outputs": [],
   "source": [
    "#Load the dataset(iris)\n",
    "df=load_iris()\n",
    "X=df.data\n",
    "y=df.target\n"
   ]
  },
  {
   "cell_type": "markdown",
   "id": "db2720b1",
   "metadata": {},
   "source": [
    "# Define Hyperparameter Grid"
   ]
  },
  {
   "cell_type": "code",
   "execution_count": 22,
   "id": "abcfee74",
   "metadata": {},
   "outputs": [],
   "source": [
    "param_grid={\n",
    "    'n_estimators':[10,50,100,200],\n",
    "    'max_depth':[5,10,20,None],\n",
    "    'min_samples_split':[2,5,10],\n",
    "    'min_samples_leaf':[1,2,4]  \n",
    "}\n",
    "#split into training and testing sets(80-20)\n",
    "X_train,X_test,y_train,y_test=train_test_split(X,y,test_size=0.2,random_state=42)"
   ]
  },
  {
   "cell_type": "markdown",
   "id": "c5c9c79d",
   "metadata": {},
   "source": [
    "# Apply Graid Search CV"
   ]
  },
  {
   "cell_type": "code",
   "execution_count": 23,
   "id": "29ad58ae",
   "metadata": {},
   "outputs": [
    {
     "name": "stdout",
     "output_type": "stream",
     "text": [
      "Fitting 5 folds for each of 144 candidates, totalling 720 fits\n",
      "Best Parameters From Grid Search:  {'max_depth': 5, 'min_samples_leaf': 1, 'min_samples_split': 5, 'n_estimators': 10}\n"
     ]
    }
   ],
   "source": [
    "grid_search=GridSearchCV(RandomForestClassifier(),param_grid,cv=5,n_jobs=-1,verbose=1)\n",
    "grid_search.fit(X_train,y_train)\n",
    "#get best parameters\n",
    "print('Best Parameters From Grid Search: ',grid_search.best_params_)\n"
   ]
  },
  {
   "cell_type": "markdown",
   "id": "68b7b1d2",
   "metadata": {},
   "source": [
    "# Apply Random Search CV"
   ]
  },
  {
   "cell_type": "code",
   "execution_count": 24,
   "id": "5e5a5a22",
   "metadata": {},
   "outputs": [
    {
     "name": "stdout",
     "output_type": "stream",
     "text": [
      "Fitting 5 folds for each of 10 candidates, totalling 50 fits\n",
      "Best Parameters form Random Search:  {'n_estimators': 50, 'min_samples_split': 10, 'min_samples_leaf': 1, 'max_depth': None}\n"
     ]
    }
   ],
   "source": [
    "random_search = RandomizedSearchCV(RandomForestClassifier(), param_grid, cv=5, n_iter=10, n_jobs=-1, verbose=1, random_state=42)\n",
    "random_search.fit(X_train,y_train)\n",
    "#get best parameters\n",
    "print('Best Parameters form Random Search: ',random_search.best_params_)"
   ]
  },
  {
   "cell_type": "markdown",
   "id": "63de85d6",
   "metadata": {},
   "source": [
    "# Evaluate Model Performance"
   ]
  },
  {
   "cell_type": "code",
   "execution_count": 19,
   "id": "dd1537ab",
   "metadata": {},
   "outputs": [
    {
     "name": "stdout",
     "output_type": "stream",
     "text": [
      "Grid Search Model Accuracy: 1.0\n",
      "Random Search Model Accuracy: 1.0\n"
     ]
    }
   ],
   "source": [
    "# Train models with best parameters\n",
    "best_grid_model = grid_search.best_estimator_\n",
    "best_random_model = random_search.best_estimator_\n",
    "\n",
    "# Predictions\n",
    "y_pred_grid = best_grid_model.predict(X_test)\n",
    "y_pred_random = best_random_model.predict(X_test)\n",
    "\n",
    "# Accuracy Scores\n",
    "acc_grid = accuracy_score(y_test, y_pred_grid)\n",
    "acc_random = accuracy_score(y_test, y_pred_random)\n",
    "    \n",
    "    \n",
    "# Print Accuracy Scores\n",
    "print(\"Grid Search Model Accuracy:\", acc_grid)\n",
    "print(\"Random Search Model Accuracy:\", acc_random)"
   ]
  },
  {
   "cell_type": "code",
   "execution_count": null,
   "id": "f71ae8ca",
   "metadata": {},
   "outputs": [],
   "source": []
  }
 ],
 "metadata": {
  "kernelspec": {
   "display_name": "Python 3 (ipykernel)",
   "language": "python",
   "name": "python3"
  },
  "language_info": {
   "codemirror_mode": {
    "name": "ipython",
    "version": 3
   },
   "file_extension": ".py",
   "mimetype": "text/x-python",
   "name": "python",
   "nbconvert_exporter": "python",
   "pygments_lexer": "ipython3",
   "version": "3.11.5"
  }
 },
 "nbformat": 4,
 "nbformat_minor": 5
}
